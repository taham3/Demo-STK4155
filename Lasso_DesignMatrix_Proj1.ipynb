{
 "cells": [
  {
   "cell_type": "code",
   "execution_count": null,
   "metadata": {
    "collapsed": true
   },
   "outputs": [],
   "source": [
    "# Lasso Regression - on the design matrix"
   ]
  },
  {
   "cell_type": "code",
   "execution_count": 1,
   "metadata": {
    "collapsed": true
   },
   "outputs": [],
   "source": [
    "import matplotlib.pyplot as plt\n",
    "import numpy as np\n",
    "\n",
    "import pandas as pd  \n",
    "from sklearn.datasets import load_boston\n",
    "\n",
    "from sklearn.metrics import mean_squared_error, r2_score\n",
    "from sklearn.linear_model import LinearRegression, Ridge, RidgeCV, Lasso, LassoCV\n",
    "from sklearn.preprocessing import PolynomialFeatures, MinMaxScaler, StandardScaler\n",
    "from sklearn.model_selection import train_test_split\n",
    "from sklearn.pipeline import make_pipeline\n",
    "from sklearn.utils import resample\n",
    "\n",
    "np.random.seed(2018)\n",
    "\n"
   ]
  },
  {
   "cell_type": "code",
   "execution_count": 2,
   "metadata": {
    "collapsed": true
   },
   "outputs": [],
   "source": [
    "# Rescale/Normalize and Standardize the data sets\n",
    "#----------------------------------------------\n",
    "def normalizeX (x):\n",
    "    #  Rescale the input - X\n",
    "    nx = MinMaxScaler().fit_transform(x)\n",
    "    \n",
    "    return nx\n",
    "\n",
    "def standardizeXy (x):\n",
    "    # Standardize both input-X and target-y\n",
    "    scaler = StandardScaler()\n",
    "    sx = scaler.fit_transform(x)\n",
    "    #sy = scaler.fit_transform(y)    \n",
    "    \n",
    "    return sx"
   ]
  },
  {
   "cell_type": "code",
   "execution_count": 3,
   "metadata": {
    "collapsed": true
   },
   "outputs": [],
   "source": [
    "# Generate random data\n",
    "n = 40     # number of points\n",
    "m = 5      # degree of polynomial\n",
    "\n",
    "# sort the random values\n",
    "x = np.sort(np.random.uniform(0, 1, n))\n",
    "y = np.sort(np.random.uniform(0, 1, n))\n",
    "\n",
    "# use the meshgrid functionality, very useful\n",
    "x, y = np.meshgrid(x,y)\n"
   ]
  },
  {
   "cell_type": "code",
   "execution_count": 4,
   "metadata": {
    "collapsed": true
   },
   "outputs": [],
   "source": [
    "# Create the Franke Function\n",
    "\n",
    "def FrankeFunction(x,y):\n",
    "    term1 = 0.75*np.exp(-(0.25*(9*x-2)**2) - 0.25*((9*y-2)**2))\n",
    "    term2 = 0.75*np.exp(-((9*x+1)**2)/49.0 - 0.1*(9*y+1))\n",
    "    term3 = 0.5*np.exp(-(9*x-7)**2/4.0 - 0.25*((9*y-3)**2))\n",
    "    term4 = -0.2*np.exp(-(9*x-4)**2 - (9*y-7)**2)\n",
    "    return term1 + term2 + term3 + term4\n",
    "    \n",
    "z = FrankeFunction(x, y)\n",
    "\n",
    "# Transform from matrices to vectors\n",
    "x_1 = np.ravel(x)\n",
    "y_1 = np.ravel(y)\n",
    "z_1 = np.ravel(z)\n"
   ]
  },
  {
   "cell_type": "code",
   "execution_count": 5,
   "metadata": {
    "collapsed": true
   },
   "outputs": [],
   "source": [
    "# Create the design matrix\n",
    "#X= create_X(x_1, y_1, m)\n",
    "\n",
    "# Function for creating a design X-matrix with rows [1, x, y, x^2, xy, y^2 , etc.]\n",
    "# Input is x and y mesh or raveled mesh, keyword agruments n is the degree of the polynomial you want to fit.\n",
    "    \n",
    "def DesignMatriX(x, y, n):\n",
    "    if len(x.shape) > 1:\n",
    "        x = np.ravel(x)\n",
    "        y = np.ravel(y)\n",
    "    \n",
    "    N = len(x)\n",
    "    l = int((n+1) * (n+2)/2)  # Number of elements in beta\n",
    "    X = np.ones((N,l))\n",
    "    \n",
    "    for i in range(1, n+1):\n",
    "        q = int((i) * (i+1)/2)\n",
    "        for k in range(i+1):\n",
    "            X[:,q+k] = x**(i-k) * y**k\n",
    "    \n",
    "    return X\n",
    "\n",
    "\n",
    "X= DesignMatriX(x_1, y_1, m)\n"
   ]
  },
  {
   "cell_type": "code",
   "execution_count": 6,
   "metadata": {
    "collapsed": true
   },
   "outputs": [],
   "source": [
    "y = z_1.reshape(-1,1)"
   ]
  },
  {
   "cell_type": "code",
   "execution_count": 7,
   "metadata": {
    "collapsed": true
   },
   "outputs": [],
   "source": [
    "# Split data into training and test sets\n",
    "X_train, X_test, y_train, y_test = train_test_split(X, y, test_size=0.2) #, random_state=1)\n",
    "\n",
    "#X.shape, y.shape"
   ]
  },
  {
   "cell_type": "code",
   "execution_count": 27,
   "metadata": {
    "collapsed": true
   },
   "outputs": [],
   "source": [
    "#----------------------------------------------\n",
    "#           Lasso Regression (Skl)            #\n",
    "#----------------------------------------------\n",
    "def skl_LassoRegression (X,y) :\n",
    "    \n",
    "    n_alphas = 100\n",
    "    alphas = np.logspace(-4, 2, n_alphas)\n",
    "\n",
    "    lasso = Lasso(normalize = True)\n",
    "\n",
    "    coefs = []\n",
    "    mse  = []\n",
    "    r2 = []\n",
    "\n",
    "    for a in alphas:\n",
    "        lasso.set_params(alpha = a)\n",
    "        lasso.fit(X, y)\n",
    "\n",
    "        coefs.append(lasso.coef_.ravel())       # coefficients\n",
    "\n",
    "        lasso.fit(X_train, y_train)             # Fit a ridge regression on the training data\n",
    "        y_tilde = lasso.predict(X)              # Use this model to predict the test data\n",
    "\n",
    "        mse.append(mean_squared_error(y, y_tilde).ravel())      # MSE test \n",
    "        r2.append(r2_score(y, y_tilde).ravel())                 # R2 score\n",
    "        #r2.append(lasso.score(X, y).ravel())\n",
    "        \n",
    "    return coefs, mse, r2, alphas\n"
   ]
  },
  {
   "cell_type": "code",
   "execution_count": 28,
   "metadata": {},
   "outputs": [],
   "source": [
    "# Ridge Regression on test data\n",
    "\n",
    "# own code for Ridge Regression\n",
    "#coefs, df, mse, r2 = coded_LassoRegression (X_test, y_test)\n",
    "\n",
    "# using codes from sklearn builtin functions\n",
    "coefs, mse, r2, df = skl_LassoRegression (X_test, y_test)\n"
   ]
  },
  {
   "cell_type": "code",
   "execution_count": 29,
   "metadata": {},
   "outputs": [
    {
     "data": {
      "image/png": "[encoded data removed]",
      "text/plain": [
       "<matplotlib.figure.Figure at 0x1d9a1e20cf8>"
      ]
     },
     "metadata": {},
     "output_type": "display_data"
    }
   ],
   "source": [
    "# df(λ) - βcoefficients\n",
    "\n",
    "fig, ax = plt.subplots(figsize=(8, 6))\n",
    "ax.set_xscale('log')\n",
    "\n",
    "ax.plot(df, coefs)\n",
    "#ax.plot(df, r2, 'r-.', label='R2 score')\n",
    "#ax.plot(df, mse, 'b', label='MSE test')\n",
    "\n",
    "plt.xlabel(r'df($\\lambda$)')\n",
    "plt.ylabel(r'Lasso Coef_ ($\\beta$)')\n",
    "plt.axhline(y=0, color='black', linestyle='--')\n",
    "plt.title(r'Lasso Regression Coef_ ($\\beta$)')\n",
    "#ax.legend(loc='best')\n",
    "plt.savefig('LassoDM-coef_.png')\n",
    "plt.show()"
   ]
  },
  {
   "cell_type": "code",
   "execution_count": 30,
   "metadata": {},
   "outputs": [
    {
     "data": {
      "image/png": "[encoded data removed]",
      "text/plain": [
       "<matplotlib.figure.Figure at 0x1d9a1e33e80>"
      ]
     },
     "metadata": {},
     "output_type": "display_data"
    }
   ],
   "source": [
    "# df(λ) - βcoefficients\n",
    "\n",
    "fig, ax = plt.subplots(figsize=(8, 6))\n",
    "ax.set_xscale('log')\n",
    "\n",
    "#ax.plot(df, coefs)\n",
    "ax.plot(df, r2, 'r', label='R2 score')\n",
    "#ax.plot(df, mse, 'b-.', label='MSE test')\n",
    "\n",
    "plt.xlabel(r'df($\\lambda$)')\n",
    "plt.ylabel('R2 score')\n",
    "plt.title('Lasso Regression R2_score')\n",
    "ax.legend(loc='best')\n",
    "plt.savefig('LassoDM-R2.png')\n",
    "plt.show()\n",
    "#--------------------------------------------------------\n"
   ]
  },
  {
   "cell_type": "code",
   "execution_count": 31,
   "metadata": {},
   "outputs": [
    {
     "data": {
      "image/png": "[encoded data removed]",
      "text/plain": [
       "<matplotlib.figure.Figure at 0x1d9a2ee5ef0>"
      ]
     },
     "metadata": {},
     "output_type": "display_data"
    }
   ],
   "source": [
    "# df(λ) - βcoefficients\n",
    "\n",
    "fig, ax = plt.subplots(figsize=(8, 6))\n",
    "ax.set_xscale('log')\n",
    "\n",
    "#ax.plot(df, coefs)\n",
    "#ax.plot(df, r2, 'r-.', label='R2 score')\n",
    "ax.plot(df, mse, 'b', label='MSE test')\n",
    "\n",
    "plt.xlabel(r'df($\\lambda$)')\n",
    "plt.ylabel('MSE ')\n",
    "plt.title('Lasso Regression MSE')\n",
    "ax.legend(loc='best')\n",
    "plt.savefig('LassoDM-MSE.png')\n",
    "plt.show()\n",
    "#--------------------------------------------------------\n"
   ]
  },
  {
   "cell_type": "code",
   "execution_count": 32,
   "metadata": {},
   "outputs": [
    {
     "data": {
      "image/png": "[encoded data removed]",
      "text/plain": [
       "<matplotlib.figure.Figure at 0x1d9a1c9e860>"
      ]
     },
     "metadata": {},
     "output_type": "display_data"
    }
   ],
   "source": [
    "# df(λ) - βcoefficients\n",
    "\n",
    "fig, ax = plt.subplots(figsize=(8, 6))\n",
    "ax.set_xscale('log')\n",
    "\n",
    "#ax.plot(df, coefs)\n",
    "ax.plot(df, r2, 'r', label='R2 score')\n",
    "ax.plot(df, mse, 'b', label='MSE test')\n",
    "\n",
    "plt.xlabel(r'df($\\lambda$)')\n",
    "plt.ylabel(r'Lasso Coef_ ($\\beta$)')\n",
    "plt.title('Lasso Regression Analysis')\n",
    "ax.legend(loc='best')\n",
    "plt.savefig('LassoDM-coef_MSE_R2.png')\n",
    "plt.show()\n",
    "#--------------------------------------------------------\n"
   ]
  },
  {
   "cell_type": "code",
   "execution_count": null,
   "metadata": {
    "collapsed": true
   },
   "outputs": [],
   "source": []
  },
  {
   "cell_type": "code",
   "execution_count": null,
   "metadata": {
    "collapsed": true
   },
   "outputs": [],
   "source": [
    "# Conclusions"
   ]
  },
  {
   "cell_type": "markdown",
   "metadata": {
    "collapsed": true
   },
   "source": [
    "Now, some of the coefficients are exactly equal to zero. Perform 10-fold cross-validation to choose the best alpha, refit the model, and compute the associated test error:\n"
   ]
  },
  {
   "cell_type": "code",
   "execution_count": 34,
   "metadata": {},
   "outputs": [
    {
     "data": {
      "text/plain": [
       "5.0305293269072505e-06"
      ]
     },
     "execution_count": 34,
     "metadata": {},
     "output_type": "execute_result"
    }
   ],
   "source": [
    "lassocv = LassoCV(alphas = None, cv = 10, max_iter = 100000, normalize = True)\n",
    "lassocv.fit(X_train, y_train.ravel())\n",
    "lassocv.alpha_"
   ]
  },
  {
   "cell_type": "markdown",
   "metadata": {},
   "source": [
    "Then the test MSE associated with this value of $\\alpha$  was computeed as"
   ]
  },
  {
   "cell_type": "code",
   "execution_count": 35,
   "metadata": {},
   "outputs": [
    {
     "name": "stdout",
     "output_type": "stream",
     "text": [
      "alpha 5.03052932691e-06 \n",
      "mse 0.00646052693995 \n",
      "R2 score 0.917587262131\n"
     ]
    },
    {
     "name": "stderr",
     "output_type": "stream",
     "text": [
      "C:\\Anaconda3\\lib\\site-packages\\sklearn\\linear_model\\coordinate_descent.py:491: ConvergenceWarning: Objective did not converge. You might want to increase the number of iterations. Fitting data with very small alpha may cause precision problems.\n",
      "  ConvergenceWarning)\n"
     ]
    }
   ],
   "source": [
    "lasso2 = Lasso(alpha=lassocv.alpha_, normalize = True)\n",
    "lasso2.fit(X_train, y_train)\n",
    "print (\"alpha\", lassocv.alpha_, \"\\nmse\", mean_squared_error(y_test, lasso2.predict(X_test).reshape(-1,1)), \"\\nR2 score\",r2_score(y_test, lasso2.predict(X_test).reshape(-1,1)))"
   ]
  },
  {
   "cell_type": "code",
   "execution_count": null,
   "metadata": {
    "collapsed": true
   },
   "outputs": [],
   "source": []
  }
 ],
 "metadata": {
  "kernelspec": {
   "display_name": "Python 3",
   "language": "python",
   "name": "python3"
  },
  "language_info": {
   "codemirror_mode": {
    "name": "ipython",
    "version": 3
   },
   "file_extension": ".py",
   "mimetype": "text/x-python",
   "name": "python",
   "nbconvert_exporter": "python",
   "pygments_lexer": "ipython3",
   "version": "3.6.3"
  }
 },
 "nbformat": 4,
 "nbformat_minor": 2
}
