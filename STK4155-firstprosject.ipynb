{
 "cells": [
  {
   "cell_type": "code",
   "execution_count": 26,
   "metadata": {},
   "outputs": [
    {
     "data": {
      "text/plain": [
       "PolynomialFeatures(degree=2, include_bias=True, interaction_only=False)"
      ]
     },
     "execution_count": 26,
     "metadata": {},
     "output_type": "execute_result"
    }
   ],
   "source": [
    "import numpy as np\n",
    "import matplotlib.pyplot as plt\n",
    "import random\n",
    "from sklearn.linear_model import Ridge\n",
    "from sklearn.preprocessing import PolynomialFeatures\n",
    "from sklearn.pipeline import make_pipeline\n",
    "from sklearn.linear_model import LinearRegression\n",
    "\n",
    "x = np.random.randn(100,1) \n",
    "y = 5*x*x + 0.1* np.random.randn(100,1) \n",
    "poly2 = PolynomialFeatures(degree=2)\n",
    "\n",
    "poly2"
   ]
  },
  {
   "cell_type": "code",
   "execution_count": 27,
   "metadata": {},
   "outputs": [
    {
     "data": {
      "text/plain": [
       "(100, 1, 1)"
      ]
     },
     "execution_count": 27,
     "metadata": {},
     "output_type": "execute_result"
    }
   ],
   "source": [
    "x[:, np.newaxis].shape"
   ]
  },
  {
   "cell_type": "code",
   "execution_count": 33,
   "metadata": {},
   "outputs": [],
   "source": [
    "X = poly2.fit_transform(x)"
   ]
  },
  {
   "cell_type": "code",
   "execution_count": 35,
   "metadata": {},
   "outputs": [
    {
     "data": {
      "text/plain": [
       "LinearRegression(copy_X=True, fit_intercept=True, n_jobs=1, normalize=False)"
      ]
     },
     "execution_count": 35,
     "metadata": {},
     "output_type": "execute_result"
    }
   ],
   "source": [
    "#X = poly2.fit_transform(x[:, np.newaxis])\n",
    "\n",
    "mdl = LinearRegression()\n",
    "mdl.fit(X, y)\n"
   ]
  },
  {
   "cell_type": "code",
   "execution_count": 36,
   "metadata": {},
   "outputs": [
    {
     "data": {
      "text/plain": [
       "array([[ 0.        ,  0.00633447,  4.99855523]])"
      ]
     },
     "execution_count": 36,
     "metadata": {},
     "output_type": "execute_result"
    }
   ],
   "source": [
    "mdl.coef_"
   ]
  },
  {
   "cell_type": "code",
   "execution_count": 37,
   "metadata": {},
   "outputs": [
    {
     "data": {
      "text/plain": [
       "array([-0.00909788])"
      ]
     },
     "execution_count": 37,
     "metadata": {},
     "output_type": "execute_result"
    }
   ],
   "source": [
    "mdl.intercept_"
   ]
  },
  {
   "cell_type": "code",
   "execution_count": 50,
   "metadata": {},
   "outputs": [],
   "source": [
    "y_pred = mdl.predict(X)\n",
    "\n",
    "sort_x= np.sort(x.reshape(-1))\n",
    "sort_y= np.sort(y_pred.reshape(-1))"
   ]
  },
  {
   "cell_type": "code",
   "execution_count": 49,
   "metadata": {},
   "outputs": [
    {
     "data": {
      "text/plain": [
       "array([-2.40530292, -2.01041023, -1.82498948, -1.7930511 , -1.50884299,\n",
       "       -1.49897807, -1.48330561, -1.36913828, -1.3287956 , -1.29055557,\n",
       "       -1.28336056, -1.25411981, -1.19681164, -1.17538597, -1.13729446,\n",
       "       -1.04586266, -0.97332197, -0.95617964, -0.92725892, -0.91581786,\n",
       "       -0.8625973 , -0.84726778, -0.82468416, -0.76767104, -0.76611355,\n",
       "       -0.75773702, -0.73632205, -0.71664996, -0.62153543, -0.62043762,\n",
       "       -0.60073605, -0.59462716, -0.5805503 , -0.53660434, -0.4632417 ,\n",
       "       -0.4602151 , -0.45367824, -0.39433494, -0.39131604, -0.38813443,\n",
       "       -0.26019054, -0.20555183, -0.17519723, -0.1660477 , -0.14467816,\n",
       "       -0.14184269, -0.12624418, -0.09404363, -0.09314914, -0.06256403,\n",
       "       -0.03186735,  0.03696987,  0.0765029 ,  0.08553175,  0.09646987,\n",
       "        0.10913818,  0.14795547,  0.17094478,  0.17744332,  0.20899006,\n",
       "        0.24521544,  0.25149078,  0.30705974,  0.3078282 ,  0.31489636,\n",
       "        0.3263263 ,  0.33060353,  0.33256164,  0.33465129,  0.34677811,\n",
       "        0.40004307,  0.45509484,  0.47406058,  0.48342143,  0.49017474,\n",
       "        0.51299309,  0.5300084 ,  0.58633534,  0.59374382,  0.66137689,\n",
       "        0.66138814,  0.66796586,  0.6945774 ,  0.70802369,  0.7305492 ,\n",
       "        0.74015899,  0.74701256,  0.77600067,  0.82079734,  0.94182138,\n",
       "        1.06494335,  1.09952615,  1.27173462,  1.29195096,  1.33498002,\n",
       "        1.61982109,  1.84060193,  1.87789987,  1.899961  ,  1.97851943])"
      ]
     },
     "execution_count": 49,
     "metadata": {},
     "output_type": "execute_result"
    }
   ],
   "source": [
    "sort_x"
   ]
  },
  {
   "cell_type": "code",
   "execution_count": 52,
   "metadata": {},
   "outputs": [
    {
     "data": {
      "image/png": "[encoded data removed]",
      "text/plain": [
       "<matplotlib.figure.Figure at 0x2d343a726a0>"
      ]
     },
     "metadata": {},
     "output_type": "display_data"
    }
   ],
   "source": [
    "plt.scatter(x, y, s=10)\n",
    "plt.plot(x, y_pred, color='r')\n",
    "plt.show()"
   ]
  },
  {
   "cell_type": "code",
   "execution_count": 45,
   "metadata": {},
   "outputs": [
    {
     "data": {
      "text/plain": [
       "array([[ 0.03696987],\n",
       "       [-0.09404363]])"
      ]
     },
     "execution_count": 45,
     "metadata": {},
     "output_type": "execute_result"
    }
   ],
   "source": [
    "x[:2]"
   ]
  }
 ],
 "metadata": {
  "kernelspec": {
   "display_name": "Python 3",
   "language": "python",
   "name": "python3"
  },
  "language_info": {
   "codemirror_mode": {
    "name": "ipython",
    "version": 3
   },
   "file_extension": ".py",
   "mimetype": "text/x-python",
   "name": "python",
   "nbconvert_exporter": "python",
   "pygments_lexer": "ipython3",
   "version": "3.6.3"
  }
 },
 "nbformat": 4,
 "nbformat_minor": 2
}
